{
 "cells": [
  {
   "cell_type": "code",
   "execution_count": 37,
   "metadata": {},
   "outputs": [
    {
     "name": "stdout",
     "output_type": "stream",
     "text": [
      "0.23.1\n"
     ]
    }
   ],
   "source": [
    "import pandas as pd\n",
    "import numpy as np\n",
    "import matplotlib.pyplot as plt\n",
    "%matplotlib inline\n",
    "import sklearn\n",
    "print(sklearn.__version__)"
   ]
  },
  {
   "cell_type": "code",
   "execution_count": 38,
   "metadata": {},
   "outputs": [
    {
     "data": {
      "text/html": [
       "<div>\n",
       "<style scoped>\n",
       "    .dataframe tbody tr th:only-of-type {\n",
       "        vertical-align: middle;\n",
       "    }\n",
       "\n",
       "    .dataframe tbody tr th {\n",
       "        vertical-align: top;\n",
       "    }\n",
       "\n",
       "    .dataframe thead th {\n",
       "        text-align: right;\n",
       "    }\n",
       "</style>\n",
       "<table border=\"1\" class=\"dataframe\">\n",
       "  <thead>\n",
       "    <tr style=\"text-align: right;\">\n",
       "      <th></th>\n",
       "      <th>Tweet</th>\n",
       "      <th>Labels</th>\n",
       "    </tr>\n",
       "  </thead>\n",
       "  <tbody>\n",
       "    <tr>\n",
       "      <th>0</th>\n",
       "      <td>It was great season and I really enjoyed it! T...</td>\n",
       "      <td>2</td>\n",
       "    </tr>\n",
       "    <tr>\n",
       "      <th>1</th>\n",
       "      <td>Great work tonight with the hard working young...</td>\n",
       "      <td>0</td>\n",
       "    </tr>\n",
       "    <tr>\n",
       "      <th>2</th>\n",
       "      <td>I respect hard work, leading by example, deter...</td>\n",
       "      <td>0</td>\n",
       "    </tr>\n",
       "    <tr>\n",
       "      <th>3</th>\n",
       "      <td>I dont know who needs to hear this but startin...</td>\n",
       "      <td>2</td>\n",
       "    </tr>\n",
       "    <tr>\n",
       "      <th>4</th>\n",
       "      <td>iâ€™m so proud of josh and i, and all that weâ...</td>\n",
       "      <td>0</td>\n",
       "    </tr>\n",
       "    <tr>\n",
       "      <th>...</th>\n",
       "      <td>...</td>\n",
       "      <td>...</td>\n",
       "    </tr>\n",
       "    <tr>\n",
       "      <th>250</th>\n",
       "      <td>The Prodigy - 'Breathe' https://t.co/ycbU8Py7r...</td>\n",
       "      <td>2</td>\n",
       "    </tr>\n",
       "    <tr>\n",
       "      <th>251</th>\n",
       "      <td>My daughter is 4 now, and just like her mama, ...</td>\n",
       "      <td>1</td>\n",
       "    </tr>\n",
       "    <tr>\n",
       "      <th>252</th>\n",
       "      <td>Prodigy - My World Empty Without You ðŸŽµ</td>\n",
       "      <td>2</td>\n",
       "    </tr>\n",
       "    <tr>\n",
       "      <th>253</th>\n",
       "      <td>Listening to The Prodigy on max volume doesnâ€...</td>\n",
       "      <td>2</td>\n",
       "    </tr>\n",
       "    <tr>\n",
       "      <th>254</th>\n",
       "      <td>Iâ€™m just a singer, a natural born guitar ringer</td>\n",
       "      <td>2</td>\n",
       "    </tr>\n",
       "  </tbody>\n",
       "</table>\n",
       "<p>255 rows × 2 columns</p>\n",
       "</div>"
      ],
      "text/plain": [
       "                                                 Tweet  Labels\n",
       "0    It was great season and I really enjoyed it! T...       2\n",
       "1    Great work tonight with the hard working young...       0\n",
       "2    I respect hard work, leading by example, deter...       0\n",
       "3    I dont know who needs to hear this but startin...       2\n",
       "4    iâ€™m so proud of josh and i, and all that weâ...       0\n",
       "..                                                 ...     ...\n",
       "250  The Prodigy - 'Breathe' https://t.co/ycbU8Py7r...       2\n",
       "251  My daughter is 4 now, and just like her mama, ...       1\n",
       "252          Prodigy - My World Empty Without You ðŸŽµ       2\n",
       "253  Listening to The Prodigy on max volume doesnâ€...       2\n",
       "254  Iâ€™m just a singer, a natural born guitar ringer       2\n",
       "\n",
       "[255 rows x 2 columns]"
      ]
     },
     "execution_count": 38,
     "metadata": {},
     "output_type": "execute_result"
    }
   ],
   "source": [
    "df100 = pd.read_excel(r\"Last Data at ISB.xlsx\", \"Last Labeled Data\")\n",
    "\n",
    "df99 = df100.Label.replace({'S': 0, \"N\" : 1, \"X\":2})\n",
    "\n",
    "df100[\"Labels\"] = df99\n",
    "df = df100.drop(\"Label\",axis=1)\n",
    "df"
   ]
  },
  {
   "cell_type": "code",
   "execution_count": 39,
   "metadata": {},
   "outputs": [
    {
     "name": "stdout",
     "output_type": "stream",
     "text": [
      "\n"
     ]
    },
    {
     "name": "stderr",
     "output_type": "stream",
     "text": [
      "[nltk_data] Downloading package stopwords to C:\\Users\\Lenovo\n",
      "[nltk_data]     C340\\AppData\\Roaming\\nltk_data...\n",
      "[nltk_data]   Package stopwords is already up-to-date!\n"
     ]
    }
   ],
   "source": [
    "import re\n",
    "import nltk\n",
    "from sklearn.datasets import load_files\n",
    "nltk.download('stopwords')\n",
    "import pickle\n",
    "from nltk.corpus import stopwords\n",
    "print()"
   ]
  },
  {
   "cell_type": "code",
   "execution_count": 40,
   "metadata": {},
   "outputs": [
    {
     "name": "stdout",
     "output_type": "stream",
     "text": [
      "[['It was great season and I really enjoyed it! Thank you for the hard work and dedication thought out the entire season! Keep it up and get better every day!'\n",
      "  2]\n",
      " ['Great work tonight with the hard working young ladies of the Vogues National Team 2023.  Thank you for having me ðŸ™ŒðŸ\\x8f¼ @Vogues2023 https://t.co/rRTBAc0K8Q'\n",
      "  0]\n",
      " ['I respect hard work, leading by example, determination,  good role model as a mom or dad, and telling the truth even when it hurts.  Freedom brings great responsibility. I admire heart and gritðŸ‡ºðŸ‡¸ðŸ’ªðŸ\\x8f½'\n",
      "  0]\n",
      " ['I dont know who needs to hear this but starting a Business is hard work'\n",
      "  2]\n",
      " ['iâ€™m so proud of josh and i, and all that weâ€™ve accomplished lately. hard work definitely pays off, even if it takes a while â\\x9d¤ï¸\\x8f'\n",
      "  0]\n",
      " ['Dado was a true hard worker. Not only in his career as an artist, but also as a father to his kids. I should know this because one of his sons is my stepfather and he knows how to get the job done when it comes to caretaking. You might as well say he had a good teacher. Part 2/?'\n",
      "  0]\n",
      " ['Sir Can request only All Gems Retd Experienced Must join in one voice Time to save Innocents Helpless Hard working honest indians The crises can be managed Only by installing National government Fake must be arrested for sedition. Time to save nation Let us join Lead Please'\n",
      "  2]\n",
      " ['hard working men &gt;&gt;' 2]\n",
      " ['Today Sabre SQDN conducted their Change of Command Ceremony! Thank you to LTC Escobar for your hard work, dedication, &amp; leadership. We wish you luck in your future. We welcome LTC Bithorn to the Brave Rifles Family &amp; wish him luck as he takes command of Sabre. #BRTough @forthood https://t.co/qzZpMTLPtE'\n",
      "  0]\n",
      " ['Hard work my grind real Iâ€™m dedicated to get this paper!' 2]\n",
      " ['Congratulations team and @SarahWhitC. The hard work finally paid off.'\n",
      "  0]\n",
      " ['Officially been promoted as the title of a Case Manager today at job at a law firm. ðŸ™\\x8fðŸ\\x8f¾ hard work is definitely paying off'\n",
      "  0]\n",
      " ['Hard work pays off keep up the great work ðŸ’ªðŸ\\x8f½' 0]\n",
      " ['FINALLY!!! ðŸ’‰ðŸ’‰ðŸ’‰â\\x9d¤ï¸\\x8fâ\\x9d¤ï¸\\x8fâ\\x9d¤ï¸\\x8f  Shout out to the hard working folks keeping things moving and organized at the #NorthVan vaccination centre!  #suckitcovid #vaccinated @ ICBC https://t.co/d7nIFcjxfh'\n",
      "  0]\n",
      " ['And I tell her I am trying but she just says â€œitâ€™s ok, it must be hard working on your own work and having to help me with mineâ€\\x9d like WHAT DID I DO TO DESERVE SUCH A BEAUTIFUL LITTLE SOUL.'\n",
      "  0]\n",
      " ['â€œNatural born leader, ainâ€™t no getting nervous.â€\\x9d https://t.co/eUZK0jkAfu'\n",
      "  1]\n",
      " ['Makes me proud that all the hard work I put in shows to others, thank you!'\n",
      "  2]\n",
      " ['I canâ€™t wait til all my hard work pays off ðŸ˜«ðŸ™\\x8fðŸ\\x8f¼' 2]\n",
      " ['The wait âŒ›ï¸\\x8fis over ðŸ›‘! Itâ€™s âŒšï¸\\x8fto show â¬†ï¸\\x8f and show out ðŸ‘€! Registration is open! Come show all of your hard work and learn from our staff! ðŸ¦˜ðŸ\\x8fˆðŸ”¥ðŸ’™ https://t.co/xJpBJBF1kK'\n",
      "  2]\n",
      " ['My daughter just came up with THE most messed up Lex Luther plot to kill Superman. Itâ€™s ingenious. But Luther isnâ€™t the joker. Thatâ€™s how ingenious it is. Lexcorp perfumes / colognes etc. using the secret ingredient- kryptonite.  No one would know. Everyone would use it. My kid.'\n",
      "  2]\n",
      " ['WOW, it feels great to finally have 9 letters behind my name. So much hard work is paying off. ðŸ¥ºðŸ¤©ðŸ’ªðŸ\\x8f¼'\n",
      "  2]\n",
      " ['Hard Work is paying off.  Proud of you @JoeyPetersen12 .  @zpetersen22  your brother is coming for you.'\n",
      "  0]\n",
      " ['Young QB Putting a Hard Work for the upcoming Season  @nikscalzo   @davibelfort   #aportsphotography  #sportsphotographer   #nikon   #nikonphotography   #nikond6  #nikkor   #nikon400mmf28 @ Miami, Florida https://t.co/JpJuHPMhwR'\n",
      "  0]\n",
      " ['Thank you all for your hard work &amp; keeping your promise Everyone please keep voting for the right people @amvetsupport @kerismom @michealjj32 @tamoore45 @briantylercohen @thomaskaine5 @TheMove2020 @smc429 @EDNYnews'\n",
      "  0]\n",
      " ['Maiinsecure na sana ko, kaso naalala ko maganda pala ko, tapos very hard working tsaka matalino! ðŸ˜œ'\n",
      "  2]\n",
      " ['Sheeesh. Hard work pays off my boy' 0]\n",
      " ['Way to go @lilwhitten22 proud of you! Hard work pays off!' 0]\n",
      " ['The @LPGA announces Mollie Marcoux Samaan as the new Commissioner after many hours of hard work behind the scenes by current and former players on search committees. Interested to see what you, the LPGA fans, think is the most pressing issue for the new Commish?'\n",
      "  0]\n",
      " [\"All from hard work and making less then 3k a month if I can you can also so let's go to the MOON #dogearmy #ShibaArmy #SHIBARMY\"\n",
      "  0]\n",
      " ['If they donâ€™t acknowledge your hard work, donâ€™t complain. KEEP WORKING!!!!'\n",
      "  2]\n",
      " ['Proud mom and dad! â\\x9d¤ï¸\\x8f @zhouston7 such a hard working player and a great honor to earn! @FHVikings'\n",
      "  0]\n",
      " ['Hard work is paying off! #workhardplayhard #2024baseball' 0]\n",
      " ['Thank you to our wonderful volunteers for their hard work on Sunday! They showed up despite the rain ðŸŒ§ and completed several following projects: https://t.co/60ON16wK1v'\n",
      "  0]\n",
      " ['Appreciate @_TomKeller for your hard work! We work hard to get this recognition: @ramsay99785265 @DoloDuane @TyHiggins8 @dionbrown1313 @martinxwilson @abadmus11 @AzzyxHarrison  #HardWorkIsAChoice  #DefendNewEnglandâš”ï¸\\x8fâš”ï¸\\x8f'\n",
      "  0]\n",
      " ['Hard work cures any obstacle. ðŸ’ªðŸ\\x8f¾' 0]\n",
      " ['So Beatrice wanted a killer jailbird ? Over her hard working , devoted ðŸš•driving husband? Makes sense ðŸ™„ stupid bih #TrueConviction'\n",
      "  0]\n",
      " ['Our community thanks you. Please continue the hard work ðŸ’ª' 0]\n",
      " ['Super proud of this and the hard work, true GRIT and perseverance put forth this year to earn this honor. Be ready when your number is calledðŸ¥° â€œAnd we know that in all things God works for the good of those who love HIM, who have been called according to his purpose. Romans 8:28'\n",
      "  0]\n",
      " ['The homie Digi sending love. Had to gift him a present for the hard work he put in on the song and it was his Birthday!'\n",
      "  0]\n",
      " [\"I live in a generation, this one of people living in the world right now, where women also put in HARD WORK CHOP CHOP and men who don't want to put in chop chop work, whatever work they choose to do, with or without axes or their hands, is perfectly valid.  Fucking bro culture.\"\n",
      "  2]\n",
      " ['Hard work is essential to self made wealth' 0]\n",
      " ['Thank you @RepMattSchaefer!   Your hard work on this legislation means everything to @GunOwners and Texans. We ended 150 years of tyranny today! #txlege #gunrights'\n",
      "  2]\n",
      " ['Congratulations son! Proud of you! The result of a lot of hard work and determination! #KeepGrinding'\n",
      "  0]\n",
      " ['So proud and thankful. Keep up the hard work G' 0]\n",
      " ['It matters who you vote for. Donâ€™t let anyone tell you any different.   Thanks for all your hard work, Rep Talarico! #txlege'\n",
      "  0]\n",
      " ['Hard working day School,Weight Training,Baseball Practice and Speed Training . Still working â€¼ï¸\\x8fðŸ™ŒðŸ\\x8f½'\n",
      "  2]\n",
      " ['Congrats to Crishawn! All the hard work has paid off! Excited to see him at the next level! @OzarksOzone @PrepHoopsMO @OzarkConference'\n",
      "  2]\n",
      " ['Hard work will never disappoint you!!!ðŸ¦\\x8f  @stevekuclo  https://t.co/YjITCt6tlp FORGE YOUR OWN PATH #ironrebel  #bodybuilding  #ifbbpro @ Iron Rebel https://t.co/xMAlY4CKkT'\n",
      "  0]\n",
      " ['How I feel after getting banned from the Funko Pop subreddit 17 consecutively. I PUT IN THE HARD WORK TO DO SO.'\n",
      "  2]\n",
      " [\"We have some hard working guys in that room and couldn't thank Coaches Brian Church, Sergei Kitaev, Florin Ungureanu &amp; Maryia Ivanova for all of their instruction, especially their focus on Greco!!!\"\n",
      "  2]\n",
      " ['HUGE. Thank you for your hard work here.' 0]\n",
      " ['people need to realize that instant satisfaction isnâ€™t a thing! success takes patience and hard work!!!'\n",
      "  0]\n",
      " ['Also #52 in the nationðŸ™\\x8f Thanks to God and hard work no where near to stopping tho.'\n",
      "  0]\n",
      " ['Also #52 in the nation thanks to hard work and God. ðŸ™\\x8fNo where near to stopping. Letâ€™s roll'\n",
      "  0]\n",
      " ['We need to carry on the hard work of Stacey Abrams she proved if you get every one out to vote young and old you can make difference letâ€™s start now Stacey doesnâ€™t let up follow her lead'\n",
      "  0]\n",
      " ['Trust your hard work and education not your hands on linesðŸ’¥ðŸ’¥  #rakeshkumar_43  @rakeshkumar_43 @ à¤šà¤®à¥\\x8dà¤ªà¤¾à¤µà¤¤ https://t.co/Ytvh26onkR'\n",
      "  0]\n",
      " ['NaMo believe in Hard Work_ #à¤¦à¥‡à¤¶_à¤•à¥€_à¤¶à¤¾à¤¨_à¤®à¥‹à¤¦à¥€ Retweet Maximum â\\x8f© https://t.co/Mjr4jfFoww'\n",
      "  0]\n",
      " [\"Awesome job to our @Montwood_MS Piano students for their hard work this past year! You did amazing at tonight's virtual Piano recital! ðŸ‘\\x8fðŸ‘\\x8fðŸ‘\\x8f#MooseUniverse ðŸ’« #TeamSISD @SISD_FineArts @SocorroISD @LAguirre_mms https://t.co/o864tE2q2U\"\n",
      "  0]\n",
      " [\"Health N wellness must be a priority. Yep! It's hard work, I don't always get the required days in yet I continue to push myself and mentally advise me that this is for me and about me. #selfcare #isselflove #selfconcept #livegood #isgoodhealth https://t.co/JnizBmRdxX\"\n",
      "  2]\n",
      " ['Hi @jollywandering! So sorry about the #txleg today. Thank you for all the hard work &amp; tenacious advocacy you &amp; your TX @MomsDemand volunteers put in. It will make a difference! #KeepGoing'\n",
      "  2]\n",
      " ['â€œItâ€™s just the way I like it.â€\\x9d For all of Ameliaâ€™s hard work there can be no higher praise. ðŸ¥° #GreysAnatomy'\n",
      "  0]\n",
      " ['Proud of your hard work!' 0]\n",
      " ['What ever happened to good ole fashioned hard work? Old school but itâ€™s a remedy that wonâ€™t fail you...'\n",
      "  0]\n",
      " [\"Too manyPublic enemies Keep attack and kill hard working lift and Uber driver's Everyone knows because 75%  drivers Muslim or immigrant âš–ï¸\\x8fðŸ¥€âš–ï¸\\x8fðŸ™‹âš–ï¸\\x8f https://t.co/KvxaXovxVU\"\n",
      "  2]\n",
      " ['Following this team this year was inspiring!! Excited for  their progress and all of the hard work that they put in. Congrats @GRunionLSU @Alexis_Rather and @LSUWomensGolf on an amazing season! #JustGettingStarted #4thfloorfamily'\n",
      "  0]\n",
      " ['Canâ€™t believe Jarry turned that over.  All the hard work in the game gone.  Malkin didnâ€™t help the effort by letting that puck flip by him with little to no effort at the point. The @penguins have some work to do in NY now.   #LetsGoPens  #NeedToWinTheNextOne'\n",
      "  2]\n",
      " ['Select Board Selfies! Cohasset Town Meeting was flawless tonight thanks to the hard work of so many dedicated citizens &amp; staffers. But the best part was being able to be unmasked w/ fellow board members &amp; colleagues for the first time in over a year. @Corey4Cohasset #cohasset143 https://t.co/bNWOe11HfI'\n",
      "  2]\n",
      " ['Iâ€™m grateful to all of the Members for their hard work. The Council also joined other communities throughout the State this evening when it adopted a resolution supporting S2656/A5301, proposing to bring NJ in line w other states to increase the transparency of police records.'\n",
      "  0]\n",
      " ['Gold Medal Winner!Congrats Fremd Guard for an awesome 2021 Season.  Your hard work, dedication and performance has shown through! #FHSSpirit https://t.co/tsLkqDPDw1'\n",
      "  0]\n",
      " ['Every day for hard work https://t.co/Psn1MFXgPc' 2]\n",
      " ['Thank you for your hard work ; excellence; your voice !' 0]\n",
      " [\"If he really wanted to impress me with hard work he'd fix the lawn before pruning a tree incorrectly.\"\n",
      "  2]\n",
      " ['itâ€™s so hard working night shift when everyone you know works a job with regular hours ðŸ˜\\xad'\n",
      "  2]\n",
      " ['Hard work and perseverance pays (Not neglecting God) https://t.co/AE7tViDjJg'\n",
      "  0]\n",
      " [\"All this hard work everywhere I'm putting it, will bless me continually for days to come. No matter the levels of success + I know it.   5 days.\"\n",
      "  2]\n",
      " ['Congrats @jus_jillian on yet another great accomplishmentâ€¼ï¸\\x8f Hard work pays off â\\x9d¤ï¸\\x8fðŸ\\x8f¹ðŸ\\x8f€'\n",
      "  0]\n",
      " ['J. LanDrY ChanGeD tHe cUlturE oF The BroWnS No!  That was the hard work from the leadership of ownership, front office, coaches players, supports staff.  Jarvis was one part of the cog that is the TEAM  To put one person above the team is a insult to the rest of the organization'\n",
      "  0]\n",
      " [\"I would also like to thank @warnerbrostv for doing everything they can for @ProdigalWriters. Your hard work doesn't go unnoticed #SaveProdigalSon #OneMillionProdigies\"\n",
      "  0]\n",
      " ['I know thereâ€™s plenty of people on #AgTwitter just like me. Go getter. Not afraid of hard work. Not great at sitting still. Always on the go.  This #MentalHealthMonth Iâ€™ve realized itâ€™s worth trying to balance. Life canâ€™t be 100 MPH 24/7.'\n",
      "  0]\n",
      " ['Hard work is only worth it in the right conditions; otherwise, itâ€™s pointless toil.'\n",
      "  1]\n",
      " ['Front Squat PR 205lbs x1 ðŸ˜Ž 225ðŸ”œ Hard Work Pays Off! https://t.co/luncr13uEX'\n",
      "  2]\n",
      " [\"Opportunities are usually disguised as hard work, so most people don't recognize them.\"\n",
      "  0]\n",
      " ['Bought Baby Gary a swimming pool tonight for all his hard work during school and baseball and he cried ðŸ¥²ðŸ¥²ðŸ¥² glad I could make his summer a good one. Heâ€™s my everything.'\n",
      "  2]\n",
      " ['Nominate a Mentor + Mentee and mentoring organizations that you think deserve recognition for their hard work in our Las Vegas community! âœ¨'\n",
      "  2]\n",
      " ['Congratulations! Awesome job, you put in the hard work,  now reap the rewards.'\n",
      "  0]\n",
      " ['Woohoo! @RTongyik hard work rewarded ðŸŽ‰ Congrats brother â\\x9d¤ï¸\\x8f'\n",
      "  0]\n",
      " ['la cague unas mil veces at work today and i treated myself w/ starbucks after being such a hard worker ðŸ’¯'\n",
      "  2]\n",
      " ['All the hard work paid off ðŸ‘\\x8d https://t.co/cgzxO8fOOH' 0]\n",
      " ['It has been an amazing journey so far with my friend @arbabalikhan doing all the hard work &amp; me stealing all the lime light as just last night we left office close to midnight, only he was working on some db issue and i was playing gupt, kareeb, dil se etc movie songs ðŸ˜Š'\n",
      "  0]\n",
      " ['Yikes! I mean, kind of ingenious but also super yikes. (They deserve whatever punishment is coming their way, IMHO)'\n",
      "  1]\n",
      " ['Day 144/365  Hard work today, BUTTLOADS of stress. But, lots of good things that come away from it all as well! Namely, that I feel much more capable than I ever realized. You know, thats a pretty good feeling.  #tonysterrific2021 https://t.co/ITJ0qjPqQf'\n",
      "  2]\n",
      " ['Your hard work will payoff. The right people will show up. Your dreams will come through.  In the meantime, work on that your daily 2k gig like say tomorrow no dey. Na one day pesin life dey change fam.   #KpokoðŸ§¡  @SociaLigaFL  #SociaLigaS5  #Socialiga #SuoTheQueenOfSports https://t.co/ugHbarHEV2'\n",
      "  0]\n",
      " ['https://t.co/GcMNbwlFny hard work but im reaching for more @ Pensacola, Florida https://t.co/5fOQsUFR1f'\n",
      "  2]\n",
      " ['hard work pays off!! ðŸ™ŒðŸ\\x8f»ðŸ™ŒðŸ\\x8f»ðŸ™ŒðŸ\\x8f»ðŸ¤žðŸ\\x8f»ðŸ¤žðŸ\\x8f»'\n",
      "  0]\n",
      " ['Primary DTC Circus Day Our students always show such perseverance and hard work when attempting new skills. They donâ€™t give up and help each other out. #resilience https://t.co/AaYG8ua4eJ'\n",
      "  2]\n",
      " [\"Opportunity follows struggle. It follows effort. It follows hard work. It doesn't come before\"\n",
      "  0]\n",
      " ['hard working @ Changping https://t.co/IWRTZVdbea' 2]\n",
      " ['My birthday Thursday so I think ima by myself some more clothes Lmfao. As a gift to myself for all my hard work and growth. â˜ºï¸\\x8f'\n",
      "  2]\n",
      " ['Faith &amp; Hard Work' 2]\n",
      " ['Hard work tends to pay off - Finland ranked as no. 1 (with a big margin!) on VC investments % of GDP ðŸš€ https://t.co/R7UnXrZf2F'\n",
      "  0]\n",
      " ['All I have to say is thanks for your hard work, your 100% all the time and how you inspire people to be better on a football pitch or outside. If you leave, I wish you the best!!! If you decide to Stay letâ€™s go for that Champions league trophy that Juventus and itâ€™s fan deserved.'\n",
      "  0]\n",
      " [\"Few days left to enjoy this offer of free delivery dedicated to all hard workers in celebration of May Day 2021!  Don't be left out, use the link in bio to shop via our different channels.  ~ryna. @ Nigeria https://t.co/rPkyUtfmEE\"\n",
      "  2]\n",
      " ['Finally 1k. All the hard work paid off.  #TWICE #íŠ¸ì™€ì\\x9d´ìŠ¤ @JYPETWICE https://t.co/5FrtzgYnMR'\n",
      "  0]\n",
      " ['Very exciting! So much hard work has gone into this incredible production with @STJ_PerformArts from pupils and staff. Everyone involved @stjohnssport can wait to see it ðŸ¦…ðŸ’šðŸ¤\\x8dðŸš\\x81ðŸŽ\\xad'\n",
      "  0]\n",
      " ['If Indian government bans twitter and Facebook, what will happen to all those hard working fake news IT cell people, they be jobless. #BanTwitterInIndia  #twitterraid  #Facebook https://t.co/vnyjltTy5z'\n",
      "  2]\n",
      " ['Having a 4 hrs of lying down in my bed after a hard work week is my best time. Thanks God'\n",
      "  2]\n",
      " ['If #Bjp government bans #twitter and #Facebook, what will happen to all those hard working fake news IT cell people, they be jobless... #IStandWithTwitterIndia #bjpitcell'\n",
      "  2]\n",
      " [\"So proud of our hard working team. If you'd like to volunteer with us please get in touch, we always need extra hands!\"\n",
      "  0]\n",
      " ['Good morning  to all the hard working ladies yall be forever loveðŸ¥°. #Workflow high af'\n",
      "  2]\n",
      " ['This is just the beginning sport time hard work .. ðŸ§¿ ðŸ¤\\x8dðŸ’ªðŸ\\x8f»ðŸ\\x8f‹ðŸ\\x8f»â€\\x8dâ™€ï¸\\x8fðŸ§¿ https://t.co/7MlYzN2l6o'\n",
      "  2]\n",
      " ['Robin Hanbury-Tenison, is a natural born storyteller. An explorer founder of @Survival, his images speak directly to us in a voice that is fresh and clear.Â\\xa0  â€˜Echoes of a Vanished Worldâ€™ is exhibited upstairs at the Jackson Foundation and online at https://t.co/q9gAcGQMMB https://t.co/xfeucQIxIy'\n",
      "  1]\n",
      " ['It is not gold, stocks, real estate, hard work, or money that makes  you rich. It is what you know about gold, stocks, real estate, hard work, and money that makes you rich.   #FinancialLiteracy'\n",
      "  1]\n",
      " ['Looking forward to unveiling the hard work out team have been doing to refresh our brand and messaging!'\n",
      "  2]\n",
      " ['I HAVE FINALLY PASSED MY 60WPM SHORTHAND, after months of hard work Iâ€™ve finally done it #NCTJ #Shorthand @NCTJ_news.'\n",
      "  2]\n",
      " ['I do love home stay after long months of hard work.' 2]\n",
      " ['Why canâ€™t the Department of Wildlife do this on their own without the intervention of presidential prodigy? Are government officers this dysfunctional? #wildlife #SriLanka'\n",
      "  2]\n",
      " ['Hustle, Grind, Hard Work, Determination, Drive, Planning &amp; Execution... Lets Work!  @DaBasementStuuu 404-594-2282 https://t.co/tvwD5Nd7Jr'\n",
      "  2]\n",
      " ['â¬‡ï¸\\x8f Hard work always attracts opportunities.' 0]\n",
      " ['Honoured to sit on the @CPMFOfficial Board of Directors and so proud of the hard work our Executive Director @Coq83 and team has done in getting us to this huge milestone! Truly a celebration this #ParamedicServicesWeek https://t.co/Rs1WyL6bs2'\n",
      "  0]\n",
      " ['In a week where a genuine hard working bouncer is racially abused for simply doing his job, these clowns tarnish the rep of bouncers yet again. Idiots man, hope they reap what they sow and end up at rock bottom.'\n",
      "  0]\n",
      " ['A dream does not become reality through magic; it takes sweat, determination, and hard work.  Have a great week everyone!âœ¨'\n",
      "  0]\n",
      " ['Finding a sexy dress that I wonâ€™t freeze in is so much hard work ðŸ˜\\xadðŸ˜\\xad I haaaaaaaaaaaaaaaaaaaate winter omg what a party pooper!!'\n",
      "  2]\n",
      " ['Most of the star kids are very hard working kyunki wo #collector banenge.'\n",
      "  2]\n",
      " [\"Honest Hard working indians must unite. Join farmers March to Delhi Not to beg to chase Enemies of humanity Then hand in hand with farmers lead them to there houses to unite with families Armed forces must join in parts as borders can't left  Only one will equivalent to one lakh\"\n",
      "  2]\n",
      " ['It is astounding how often the political women I know often get zero credit for doing really hard work.'\n",
      "  2]\n",
      " ['Ready for the hard work ðŸ‘¨â€\\x8dðŸ’¼ðŸ”†ðŸ‘¨â€\\x8dðŸ’¼ðŸ”†ðŸ‘¨â€\\x8dðŸ’¼ðŸ”† https://t.co/2UpJkHgnMv'\n",
      "  2]\n",
      " ['Harvard   V/S.       Hard work' 2]\n",
      " ['Our Reading Club academic athletes ran the halls this morning to celebrate their hard work over the past months! #WeAreFamily https://t.co/0PXMn2ZpsN'\n",
      "  2]\n",
      " ['Now itâ€™s time to show out hard work pays off Next level congratulations boys 2021 graduatesðŸ‘¨ðŸ\\x8f½â€\\x8dðŸŽ“A childhood friend more like a brother been playing together since middle school and they get to go to college together and play for the same team Iâ€™m in tears right now @AlbertoG26G https://t.co/MCu4hW4A5n'\n",
      "  0]\n",
      " [\"Then those who flee to another country and work hard work He all On the blacklist Ha.. Ha Tank you  Bastard.. One gay no Was I know he managed to escape in time But we.. Knows Now you are On the blacklist Now you can not say Where are you going Ha.. Ha You 're not going anywhere\"\n",
      "  2]\n",
      " ['Even op en neer naar Hoevelaken voor opticien en post Trideo. Even genieten van #theprodigy  op mijn oortjes. ðŸ¥° Wind mee en fietsen maar. Ergens hoop ik ooit op de (race)fiets geflitst te worden. ðŸ˜\\x8f #bucketlist #lifegoalsinprogress  https://t.co/MjRE4S7m0V'\n",
      "  2]\n",
      " ['When all you know is hard work it makes climbing that ladder to success even easier    ðŸ¦\\x8fRhino-ism'\n",
      "  2]\n",
      " ['Congratulations to all relentless, dedicated and hard workers of @PATofficialPK on #PATFoundationDay'\n",
      "  0]\n",
      " ['Your hard work towards your success is only matters. @ Norberto Bana Sr. Memorial SDA Elem. School https://t.co/TYo5s0JQdy'\n",
      "  0]\n",
      " ['Finished a hard workout. Time for another workout ðŸ˜ˆðŸ’ªðŸ\\x8f½ðŸŒ¹ if you know what I mean ðŸ¤·ðŸ\\x8f½â€\\x8dâ™‚ï¸\\x8f video upload later today ðŸ˜˜ only #onlyfans &amp; #just4fans https://t.co/wbRyNu7EWL'\n",
      "  2]\n",
      " ['All hard work is paying off!ðŸ–¤ðŸ’ªðŸ\\x8f¾ðŸ¦\\x8dðŸ”¥ . . . .  ðŸ“¸: @IFKMariehamn https://t.co/BD5RAO43p6'\n",
      "  0]\n",
      " ['hard work pays off !! @TShowcase @shu_softball @MerrimackSB @EndicottSOFT https://t.co/pSTUXxqDgL'\n",
      "  0]\n",
      " ['Guys todays bets have been posted on the vip its only the cost of Â£5 a month for me to do all the hard work literally the price of a pint of lager lol dont miss out guys ðŸ˜‰ https://t.co/XV1gMz7hsc send it over  there and message me ðŸ™‚ #retweet please'\n",
      "  2]\n",
      " ['Me in april vs me nowðŸ˜³  Just some hard work and patience   Still got work to do but dang @rosehaileyy https://t.co/6iJPfvQV7W'\n",
      "  2]\n",
      " ['Making a positive impact on people you come across thru your hard work in whichever field youâ€™re in'\n",
      "  0]\n",
      " ['Congratulations @JayevanFoster! You should feel very proud about the hard work and dedication you put into making this happen.'\n",
      "  0]\n",
      " ['â€˜Hello Iâ€™m the graphic designer on the series you set up and did all the hard work for, have you got...â€™ https://t.co/4udZUmE0YG'\n",
      "  2]\n",
      " ['Hard work pays off ðŸ™Œ' 0]\n",
      " ['Excellent news, and a real tribute to the hard work of everyone involved in @SMERC_org @NHS_Education'\n",
      "  2]\n",
      " ['I had him as my favourites and had massive respect for him...  such a hard worker who seemed to love playing for us â™¥ï¸\\x8f'\n",
      "  0]\n",
      " ['â€œI want to thank me for believing in me, I want to thank me for doing all this hard work. I wanna thank me for taking no days off. I wanna thank me for never quitting,â€\\x9d me in front of mirror  practicing for a motivational speech just incase i became multimillionaire in future.'\n",
      "  2]\n",
      " ['At Alro, we value and recognize the hard work of our teammates. For those that want to grow and learn, the career possibilities are endless. Start your career with us as our newest 2nd and 3rd Shift Material Handler. https://t.co/bkzkZMUaam #Tulsa, OK #industrial'\n",
      "  2]\n",
      " ['We recognize and reward the hard work that our teammates put in to helping us continue growing across the country. Watch your hard work pay off at Cellular Sales. Join us in Knoxville, TN! https://t.co/sqyH7r41fv #Knox #KnoxRocks'\n",
      "  2]\n",
      " ['Delighted to organise very positive meeting on Loughanleagh Mountain with the hard working, dedicated committee and officials from @cavancoco discussing all things. A terrific  tourism attraction into the future #LoughanleaghMountain #TheGreatOutdoors https://t.co/Qv6fNyoreI'\n",
      "  2]\n",
      " ['This is simply incredible. Please read this thread, you will not be disappointed.   â€œTo prove hard work trumps hate.â€\\x9d  There was a lot of love in there too ðŸ’—'\n",
      "  0]\n",
      " ['Thrilled to have my hard work and contributions recognized by @MDIConline and excited to continue supporting our mission in my new role as Senior Communications Manager!'\n",
      "  2]\n",
      " [\"This lad helped create and run Renua. He was politically opposed to #repealthe8th &amp; all the hard work done by the volunteers that got this over the line. Don't be taken in by this because he's running in Dublin Bay South for Fine Gael. Lies upon lies.\"\n",
      "  2]\n",
      " ['Iâ€™m very proud of her for being named Newcomer of the Year. Her dedication and hard work is not going unnoticed. ðŸ’ªðŸ\\x8f¿ðŸ’ªðŸ\\x8f¿'\n",
      "  0]\n",
      " ['The feeling you get when your hard work pays off is priceless.' 0]\n",
      " ['Awesome Coach! Hard work pays off!' 0]\n",
      " ['Despite very stressful and hard workdays, I managed to spend a half Sunday for a boating with a NeuroFreind, then returned to lab for the whole evening, got very exciting results. Such a REWARDING weekend! https://t.co/TRSygjpLrU'\n",
      "  2]\n",
      " ['If hard work becomes Habit Success if You go becomes.. https://t.co/xAKhKpfl78'\n",
      "  2]\n",
      " [': We seek to invigorate your efforts to make valuable additions to this field. Whatever progress made by hard workers, still it is nothing compared to the vast sea of science.!  By:  Sultan Qaboos ( was theÂ\\xa0Sultan of OmanÂ\\xa0from 23 July 1970 until his death.) https://t.co/Eqgou8IBJC'\n",
      "  0]\n",
      " ['We recognize and reward the hard work that our teammates put in to helping us continue growing across the country. Watch your hard work pay off at Cellular Sales. Join us in #Lewiston, ID! https://t.co/BGW9FxkhYg #Sales'\n",
      "  0]\n",
      " ['I started with new shoes, and with hard work and discipline, Todayâ€™s workout . @tracerindia  @tracerindia1  * * *  #sportsshoes #sneakers #tracerindia #casualshoes #runningshoes #tracer #fashion #comfert #loafers #sports #mensshoes #shoes #style #fighter #mma #mmafighter https://t.co/wB45pBdUlP'\n",
      "  2]\n",
      " ['Proud of my Practice Education team and their hard work collaborating with Bournemouth University.'\n",
      "  2]\n",
      " ['Congrats Evan! Hard work pays off.' 0]\n",
      " ['My sleeping schedule has been shit lately but finally caught up on some ðŸ’¤â€™s , play hard work harder ðŸ’¯'\n",
      "  2]\n",
      " [\"#Africa has it all; the minerals, the lakes, the land, the mountains, the amazing culture, the policies, hard working people and most importantly,  determined #youth. I'd say all we need for our beautiful continent is good governance and unity   #AfricaDay #HappyAfricaDay2021\"\n",
      "  1]\n",
      " [\"Hard work... I really can't wait to see all this come together.\" 2]\n",
      " ['#SPUR #K_T_T #ä¸\\xadå³¶å\\x81¥äºº  ..thnks for the hard work..i have seen it ðŸ¥°'\n",
      "  2]\n",
      " ['Iâ€™m confident af, because I put in so much hard work to be where I am to let anyone, especially strangers on the internet take that away from me'\n",
      "  0]\n",
      " ['So so true consistency is key. Us as fan only see the finished product on the pitch. ðŸ‘\\x8fðŸ\\x8f¾ðŸ‘\\x8fðŸ\\x8f¾ðŸ‘\\x8fðŸ\\x8f¾ðŸ™ŒðŸ\\x8f¾ To the hard work of both players and coaches for display of peotry in motion ðŸ’¯ðŸ”\\x9dðŸ\\x8f‰ðŸ”¥ðŸ”¥ðŸ”¥ðŸ\\x90»'\n",
      "  0]\n",
      " ['Your hard work, no matter what it is, shows who you are and where you come from.  What do you work hardest for the most? Let us know in the comments! #hustle #dedication #goals #yourself #profilesketch #psychometric #careercounselling #bh_ps https://t.co/z9LzpY3GXF https://t.co/Hxs0triFf0'\n",
      "  0]\n",
      " [\"Heartfelt congratulations to you.â€\\x9d A spectacular achievement! Your determination, hard work, and skill have paid off with a new career as a (profession)! Heartfelt thoughts are sent your way. New places to go, new things to try and new people to meet - it's all out there! https://t.co/TV30lgksB5\"\n",
      "  0]\n",
      " ['Iâ€™ve worked with a few Tonyâ€™s down the years. And itâ€™s hard work  #aplaceinthesun'\n",
      "  2]\n",
      " ['Damn it. This western music industry is disrespecting BTS and our hard work. Keep streaming so that western industry realizes that we worked so hard streaming Butter all day! #BTS #ë°©íƒ„ì†Œë…„ë‹¨ @BTS_twt'\n",
      "  2]\n",
      " ['ðŸ˜\\x81Thank you for your hard workðŸ‘\\x8f' 2]\n",
      " ['Good news my current show on #Humtv is off to a great start â˜ºï¸\\x8fðŸ™\\x8f delighted to see that all the hard work is paying off. Keeping fingers crossed for more to come. Kudos to the entire team â˜ºï¸\\x8f. #television #drama #series #pakdrama #ushnashah #adeelhussain #haroonshahid #srhaasghar https://t.co/7H2VfOf8D4'\n",
      "  0]\n",
      " ['Self-belief and hard work will always earn you success. -Virat Kohli'\n",
      "  0]\n",
      " ['With hard work and effort, you can achieve anything @ Rwanda https://t.co/IN214TKQgf'\n",
      "  0]\n",
      " ['I never thought Iâ€™d work for a company that genuinely treats me like family. Iâ€™ve been rewarded for my hard work with major promotions. My boss is basically my beat friend. Itâ€™s a breath of fresh air'\n",
      "  2]\n",
      " ['All this hard work gonna pay off' 0]\n",
      " ['Iâ€™m so extremely proud of you @peytonjtuggle Hard work pays off, kiddo! #KeepGrindin'\n",
      "  0]\n",
      " ['Ingenious !!' 1]\n",
      " ['Thereâ€™s no hard work; thereâ€™s only luck.' 1]\n",
      " ['Just a reminder: hard work does not always pay off. donâ€™t believe the hype'\n",
      "  0]\n",
      " ['Isaac made some huge growth in iReady! 60 points in math and 76 points in reading!! Super proud of his hard work! #celebrateLPS @CitrusSchools @LecantoPrimary https://t.co/Ty6a40Ah4u'\n",
      "  0]\n",
      " ['Such a good game last night, hope tonight has a better outcome for the hard work @CanadiensMTL'\n",
      "  2]\n",
      " ['A+B3:C300B Food Services has been an incredible resource for the community this year. Grateful for their hard work and continued creativity! ðŸ\\x8d” ðŸŒ\\xad ðŸ‡ºðŸ‡¸ #ActonMA #Boxborough #FoodSecurity'\n",
      "  0]\n",
      " [\"It's took that log and hard work to get in this shape. https://t.co/aIsnrm4L0C\"\n",
      "  2]\n",
      " ['It took that long and hard work to get in this shape https://t.co/uaj8ycH3vC'\n",
      "  2]\n",
      " ['Extemely hard working young man and heck of a DB!!!!!!' 0]\n",
      " ['My preceptor complimented all the hard work Iâ€™ve done this month and said I took everything he gave me and took it to the next level so excuse me while I celebrate securing my first residency LOR ðŸŽ‰'\n",
      "  0]\n",
      " ['This oj in the ice cup got me feeling unscrupulous' 2]\n",
      " ['Natural born leader! Congrats lil broðŸ’™ðŸ’›' 1]\n",
      " ['#hiphop Listen to Natural Born Winner by Mike C by Mike C on #SoundCloud https://t.co/QDIm7P83P4'\n",
      "  2]\n",
      " ['I personally request to Honorable CM of Assam @himantabiswa give priority to Assamese ingenious youth who is Assamese in all way.'\n",
      "  1]\n",
      " ['my man is a natural born provider &amp; I appreciate everything he brings to our table!'\n",
      "  1]\n",
      " ['going to cunt class for my masters in being a cunt and discovering iâ€™m a prodigy, a natural, i lapped the age of attractiveness and now iâ€™m speedrunning it again for funsies'\n",
      "  2]\n",
      " [\"Feel bad for Naseem, he was the next big thing till last year, 16 yo prodigy and now he has had game time in a while  Right decision taken though, I hope there's no tolerance and everyone stays negative  #PSL6\"\n",
      "  1]\n",
      " ['Palmer was born in London &amp; grew up in a religious family. He was a child prodigy &amp; exhibited at the RA at the age of 14. He was friends with John Linnell &amp; met William Blake who inspired him. Self-Portrait (c1824-5), Sketch from Sion Park (1819) &amp; Hailsham Sussex (1821) https://t.co/leiLyprZr9'\n",
      "  1]\n",
      " ['But it seems like everyone with that sign are natural born users and thatâ€™s really sad ðŸ˜¢ like yâ€™all canâ€™t just be regular without using ppl?'\n",
      "  2]\n",
      " ['Been following your ingenious work @TheRealHimanshu, very impressed.   More than ever itâ€™s right now &amp; for the #Young to advocate #Sustainability   Would like to work with you in progressing #SDGs from Telangana/India to achieve @GlobalGoalsUN   Can we discuss ? #GoalsOnWheels'\n",
      "  1]\n",
      " ['Shota is a natural born leader. @BravoTopChef' 1]\n",
      " ['a natural born hustler ðŸ¤‘ðŸ˜Œ.' 1]\n",
      " ['Anyone else feel this?! ðŸ’\\x81ðŸ\\x8f¼â€\\x8dâ™€ï¸\\x8fðŸ¤£  Drop a â\\x9d¤ï¸\\x8f below if you can relateðŸ’ƒðŸ\\x8f¼  I know...Itâ€™s hard work being so talented. But I see you Boo! Youâ€™re a rockstar ðŸ‘\\x8fðŸ\\x8f»ðŸ˜ŽðŸ¤©ðŸ˜‰ðŸ˜˜  May your Friday be filled with singing, dancing, fun, laughter and light âœ¨ðŸ’«ðŸ¤—ðŸ˜˜ https://t.co/qJpCzA68KM'\n",
      "  1]\n",
      " ['Listen to the most recent episode of @growwithpennee podcast: Inside the mind of the creative ingenious  https://t.co/6V38lo1Fg7'\n",
      "  1]\n",
      " ['Another lifter at the gym told me that I was a natural born power lifter, that I was a natural athlete. Idk about all that but I can say I absolutely love powerlifting. Think itâ€™s because when you put in the work it yields you getting stronger and better. Results driven.'\n",
      "  1]\n",
      " ['When 5 Becomes 6.  Today Lionel Messi Is Recognised As An Elder Of Football.  Perhaps The Most Naturally Gifted Player There Has Ever Been... https://t.co/WGtEGTCkvE'\n",
      "  1]\n",
      " ['Weâ€™re here. Natural born LeverPuller... https://t.co/uwBm5LdgOl' 1]\n",
      " ['Mfs be posting trash snippets talking bout just playing wit the music as if they naturally gifted.'\n",
      "  2]\n",
      " ['Samir NurkoviÄ\\x8d is a natural born scorer his 2nd goal was spectacular â\\x9d¤ðŸ¥°ðŸ”¥ #Amakhosi4Life https://t.co/VAcJ2GYL0a'\n",
      "  1]\n",
      " ['Natural born math teacher! He loves teaching me before bed! #patternsrule #numbersmakesensepeopledont @ Richmond Hill, Georgia https://t.co/OhRMrbTujz'\n",
      "  1]\n",
      " ['Ntore Habimana: 23-year-old youthful basketball prodigy on his rising career  Gifted with flare and pace, the Canada born point-guard had some flashes of brilliance during the recent Afrobasket qualifiers window 2 that took place in Monastir Tunisia.  https://t.co/9E84p7XUyb https://t.co/majemhscw2'\n",
      "  1]\n",
      " ['Jin is a natural born comedian ðŸ˜‚ðŸ˜‚ðŸ˜‚#ì§„ #JIMIN ðŸ˜‚ðŸ˜‚ðŸ˜‚' 1]\n",
      " ['Hard WORK Always Beats TALENT When Talent Doesn\\'t Work Hard.......but when the TALENTED work HARD you Form a BREAKFAST CLUB !!   \"VERTEX PERFORMANCE\"'\n",
      "  0]\n",
      " ['The trailer of #TheBigBull depicts sheer hard work of talented director @kookievgulati!  The movie is releasing on April 8th.   #TheBigBullTrailer   https://t.co/OqrECPI5H5'\n",
      "  1]\n",
      " ['â€œHe only plays the same quirky character type rolesâ€\\x9d etc.  Yeah right. Give this kind, multi-talented, hard working and humble man a bloody #Oscar already. #JohnnyDepp #JusticeForJohnnyDepp #TikTok https://t.co/UXGEdSzcxJ'\n",
      "  1]\n",
      " ['The bro @markheffronn and my prodigy @tim.murphy17 hes coming on loads very talented lad got a bright future #boxing #boxingtraining #boxinglife @ Manchester, United Kingdom https://t.co/ffreQX8mW3'\n",
      "  1]\n",
      " ['Talent is cheaper than table salt. What separates the talented individual from the successful one is a lot of hard work.'\n",
      "  0]\n",
      " ['Thatâ€™s my guy. Years of hard work paying off for him. You wonâ€™t find a more talented or humble guy out there. Well deserved. Congrats man @RyanHawkins8'\n",
      "  1]\n",
      " ['Natural born hustler' 1]\n",
      " ['In #Bengal \"Youth in politics\" means #celebrity nt hard working young guy who gives blood and dedication 24*7 towards party.  #BengalElections2021'\n",
      "  0]\n",
      " ['We are Credible ,but our vision is hard for the non indigo brain  Some say child Prodigy artists are Indigo'\n",
      "  1]\n",
      " ['Natural born provider I DO NOT seek help from no one !!' 1]\n",
      " ['Also that Natural Born Killers vibe. #FPatricksBirthday' 2]\n",
      " ['There will be obstacles, doubters &amp; mistakes. But with hard work, there are no limits - Michael Phelps  Happy Birthday Welson Sim. ðŸŽ‚Have a great year &amp; successfully qualify to Tokyo Olympics. Be committed in achieving your dreams. ðŸ\\x8fŠðŸ’ªðŸ¥‡  #OlympicDreams ðŸ‡²ðŸ‡¾ #HappyBirthdayWelson https://t.co/nb97jiLD0S'\n",
      "  0]\n",
      " ['ðŸ’\\xa0ÙŠØªØ´Ø±Ù\\x81 Ù…Ø³ØªÙˆØµÙ\\x81 Ù…ÙˆÙ†ØªØ±ÙŠØ§Ù„ ÙƒÙ„ÙŠÙ†Ùƒ Ø¨Ø§Ù„Ø¥Ø¹Ù„Ø§Ù† Ø¹Ù† ÙˆØ¬ÙˆØ¯Â\\xa0 Ø£Ø\\xadØ¯Ø« Ø£Ø¬Ù‡Ø²Ø© Ù‚ÙŠØ§Ø³ ÙƒØ«Ø§Ù\\x81Ø©Â\\xa0 Ø§Ù„Ø¹Ø¸Ø§Ù… GE lunar prodigy  Ø\\xadÙŠØ« ÙŠÙ‚ÙˆÙ… Ø§Ù„Ø¬Ù‡Ø§Ø² Ø¨Ù\\x81Ø\\xadØµ ÙƒØ«Ø§Ù\\x81Ø© Ø§Ù„Ø¹Ø¸Ø§Ù… ÙˆØªÙ‚ÙŠÙŠÙ… Ù†Ø³Ø¨Ø© Ø§Ù„Ù…Ø¹Ø§Ø¯Ù† Ø¨Ø§Ù„Ø¬Ø³Ù… Ø¨Ø·Ø±ÙŠÙ‚Ø© Ø¨Ø§Ù„ØºØ© Ø§Ù„Ø¯Ù‚Ø© Ù„ØªØ´Ø®ÙŠØµ Ù…Ø±Ø¶ Ù‡Ø´Ø§Ø´Ø© Ø§Ù„Ø¹Ø¸Ø§Ù… Ø§Ù„Ø°ÙŠ ÙŠØ³ØªÙˆØ¬Ø¨ Ø§Ù„Ø¹Ù„Ø§Ø¬ Ø§Ù„Ù\\x81ÙˆØ±ÙŠðŸ’\\xa0 #Ù‡Ø´Ø§Ø´Ø©_Ø§Ù„Ø¹Ø¸Ø§Ù… â˜Žï¸\\x8f24748888 https://t.co/wEv4jyLMMw https://t.co/AweAlrQUrn'\n",
      "  2]\n",
      " [\"The Prodigy - 'Breathe' https://t.co/BNYDpbF1z8 via @YouTube https://t.co/A8jW00dSW1\"\n",
      "  2]\n",
      " [\"The Prodigy - 'Breathe' https://t.co/BNYDpbF1z8 via @YouTube https://t.co/DaF1kWLM4k\"\n",
      "  2]\n",
      " [\"The Prodigy - 'Breathe' https://t.co/BNYDpbF1z8 via @YouTube https://t.co/PICOvGYtVf\"\n",
      "  2]\n",
      " [\"The Prodigy - 'Breathe' https://t.co/BNYDpbF1z8 via @YouTube https://t.co/GnzIRb8Ykx\"\n",
      "  2]\n",
      " [\"The Prodigy - 'Breathe' https://t.co/BNYDpbF1z8 via @YouTube https://t.co/Y0RqFk4xT3\"\n",
      "  2]\n",
      " ['special thank you too pat racanelli for allowing me to play with his prodigy platinum 18s group, once again! runner up finish this weekend! https://t.co/i1iH7UKi7h'\n",
      "  1]\n",
      " ['Niall Reid-Stephen, a Barbados youth prodigy, has signs with @ChiStateMSoccer   #OurChampionshipEra #ace #gocougars'\n",
      "  1]\n",
      " ['All my moves this year screams, Hello world, a new african prodigy has arrived !'\n",
      "  1]\n",
      " ['Happy Birthday to the young prodigy  Emilioooooooooooo!!!!!!!  (Youâ€™re too young to get that reference but trust me, itâ€™s hilarious)'\n",
      "  2]\n",
      " ['Mexicans are natural born engineers' 1]\n",
      " ['Natural born learner ainâ€™t no getting nervous' 2]\n",
      " ['I am SO proud of what @djzaviuk has made so far &amp; SO excited to see this journey unfold. A natural born producer ðŸ”¥'\n",
      "  1]\n",
      " ['i am a natural born sandwich artist' 2]\n",
      " ['but hard work beats talent, when talent fails to work hard - Kevin Durant'\n",
      "  0]\n",
      " ['Doja Cat another natural born STAR' 1]\n",
      " ['â€œwhat did vinland saga do to joe, he was telling me how he was a natural born leader and shit he told me he was gonna beat some dude up at schoolâ€\\x9d -aiden'\n",
      "  1]\n",
      " ['Big Twins - Sold My Soul (feat. Prodigy) (prod. by Havoc) https://t.co/iMshuv53Bp via @YouTube'\n",
      "  2]\n",
      " ['Prodigy ft Big Twin Gambino - Click.Clack (Official Music Video) https://t.co/zeVd56hGA0 via @YouTube'\n",
      "  2]\n",
      " [\"You don't have to be a prodigy to be unique ðŸ’™\" 2]\n",
      " ['Maybe a â€œprodigy â€œ is someone who has mastered a skill over many lifetimes'\n",
      "  1]\n",
      " [\"Being a cashier really shows me how most people are; natural born FOLLOWERS, aka Sheep. It's heart breaking.\"\n",
      "  1]\n",
      " ['so I just watched Natural Born Killers for the first time. thatâ€™s all Iâ€™m gonna say. ðŸ˜‚'\n",
      "  2]\n",
      " ['*âšœï¸\\x8fDay 7ï¸\\x8fâƒ£2ï¸\\x8fâƒ£âšœï¸\\x8f*         *à¤œà¤¯ à¤¶à¥\\x8dà¤°à¥€ à¤•à¥ƒà¤·à¥\\x8dà¤£*  I know the price of success: dedication, hard work and an unremitting devotion to the things you want to see happen.   à¤®à¥\\x81à¤\\x9dà¥‡ à¤¸à¤«à¤²à¤¤à¤¾ à¤•à¥€ à¤•à¥€à¤®à¤¤ à¤ªà¤¤à¤¾ à¤¹à¥ˆ: à¤¸à¤®à¤°à¥\\x8dà¤ªà¤£, à¤•à¤¡à¤¼à¥€ à¤®à¥‡à¤¹à¤¨à¤¤ à¤”à¤° à¤‰à¤¨ à¤šà¥€à¤œà¥‹à¤‚ à¤•à¥‡ à¤ªà¥\\x8dà¤°à¤¤à¤¿ à¤\\x8fà¤• à¤…à¤Ÿà¥‚à¤Ÿ à¤\\xadà¤•à¥\\x8dà¤¤à¤¿ à¤œà¥‹ à¤†à¤ª à¤¦à¥‡à¤–à¤¨à¤¾ à¤šà¤¾à¤¹à¤¤à¥‡ à¤¹à¥ˆà¤‚à¥¤'\n",
      "  2]\n",
      " ['Prodigy Coffee - à¸‚à¸\\xadà¸™à¹\\x81à¸\\x81à¹ˆà¸™ l à¸šà¸£à¸£à¸¢à¸²à¸\\x81à¸²à¸¨à¸Šà¸´à¸¥à¹† à¹€à¸£à¸µà¸¢à¸šà¸‡à¹ˆà¸²à¸¢ à¸„à¸¥à¸²à¸¢à¸ªà¸¡à¸\\xadà¸‡à¹€à¸šà¸²à¹† à¸\\x81à¸±à¸šà¹€à¸„à¸£à¸·à¹ˆà¸\\xadà¸‡à¸”à¸·à¹ˆà¸¡à¸ªà¸±à¸\\x81à¹\\x81à¸\\x81à¹‰à¸§à¹\\x81à¸¥à¸°à¹€à¸šà¹€à¸\\x81à¸\\xadà¸£à¸µà¹ˆà¸ªà¸±à¸\\x81à¸Šà¸´à¹‰à¸™ à¸£à¸±à¸šà¸£à¸\\xadà¸‡à¸ˆà¸°à¸•à¸´à¸”à¹ƒà¸ˆ #à¸—à¸¥à¸šà¸„à¸²à¹€à¸Ÿà¹ˆà¸®à¹‡à¸\\xadà¸›à¸›à¸´à¹‰à¸‡ https://t.co/duFhdDS0Aw'\n",
      "  2]\n",
      " ['Natural born amlovers' 2]\n",
      " ['The Prodigy - Charly (Original Mix) https://t.co/I4LmmoazNy via @YouTube'\n",
      "  2]\n",
      " [\"The Prodigy - 'Breathe' https://t.co/ycbU8Py7rr via @YouTube\" 2]\n",
      " [\"My daughter is 4 now, and just like her mama, she's shown herself to be something of a prodigy. As far as the 'sex talk' goes, she'll be getting it from me once she turns 7. She will know all there is to know about sexuality.\"\n",
      "  1]\n",
      " ['Prodigy - My World Empty Without You ðŸŽµ' 2]\n",
      " ['Listening to The Prodigy on max volume doesnâ€™t half sort my head out!'\n",
      "  2]\n",
      " ['Iâ€™m just a singer, a natural born guitar ringer' 2]]\n"
     ]
    }
   ],
   "source": [
    "array = df.to_numpy()\n",
    "print(array)"
   ]
  },
  {
   "cell_type": "code",
   "execution_count": 41,
   "metadata": {},
   "outputs": [
    {
     "name": "stdout",
     "output_type": "stream",
     "text": [
      "0      2\n",
      "1      0\n",
      "2      0\n",
      "3      2\n",
      "4      0\n",
      "      ..\n",
      "250    2\n",
      "251    1\n",
      "252    2\n",
      "253    2\n",
      "254    2\n",
      "Name: Labels, Length: 255, dtype: int64 0      It was great season and I really enjoyed it! T...\n",
      "1      Great work tonight with the hard working young...\n",
      "2      I respect hard work, leading by example, deter...\n",
      "3      I dont know who needs to hear this but startin...\n",
      "4      iâ€™m so proud of josh and i, and all that weâ...\n",
      "                             ...                        \n",
      "250    The Prodigy - 'Breathe' https://t.co/ycbU8Py7r...\n",
      "251    My daughter is 4 now, and just like her mama, ...\n",
      "252            Prodigy - My World Empty Without You ðŸŽµ\n",
      "253    Listening to The Prodigy on max volume doesnâ€...\n",
      "254    Iâ€™m just a singer, a natural born guitar ringer\n",
      "Name: Tweet, Length: 255, dtype: object\n"
     ]
    }
   ],
   "source": [
    "X, y = df.Labels, df.Tweet\n",
    "print(X, y)\n"
   ]
  },
  {
   "cell_type": "code",
   "execution_count": 42,
   "metadata": {},
   "outputs": [],
   "source": [
    "X1 , Y1  = X.to_numpy() , y.to_numpy()"
   ]
  },
  {
   "cell_type": "code",
   "execution_count": 43,
   "metadata": {},
   "outputs": [
    {
     "name": "stderr",
     "output_type": "stream",
     "text": [
      "[nltk_data] Downloading package wordnet to C:\\Users\\Lenovo\n",
      "[nltk_data]     C340\\AppData\\Roaming\\nltk_data...\n",
      "[nltk_data]   Package wordnet is already up-to-date!\n"
     ]
    }
   ],
   "source": [
    "import nltk\n",
    "nltk.download('wordnet')\n",
    "documents = []\n",
    "\n",
    "from nltk.stem import WordNetLemmatizer\n",
    "\n",
    "stemmer = WordNetLemmatizer()\n",
    "\n",
    "for sen in range(0, len(Y1)):\n",
    "    # Remove all the special characters\n",
    "    document = re.sub(r'\\W', ' ', str(Y1[sen]))\n",
    "    \n",
    "    # remove all single characters\n",
    "    document = re.sub(r'\\s+[a-zA-Z]\\s+', ' ', document)\n",
    "    \n",
    "    # Remove single characters from the start\n",
    "    document = re.sub(r'\\^[a-zA-Z]\\s+', ' ', document) \n",
    "    \n",
    "    # Substituting multiple spaces with single space\n",
    "    document = re.sub(r'\\s+', ' ', document, flags=re.I)\n",
    "    \n",
    "    # Removing prefixed 'b'\n",
    "    document = re.sub(r'^b\\s+', '', document)\n",
    "    \n",
    "    # Converting to Lowercase\n",
    "    document = document.lower()\n",
    "    \n",
    "    # Lemmatization\n",
    "    document = document.split()\n",
    "\n",
    "    document = [stemmer.lemmatize(word) for word in document]\n",
    "    document = ' '.join(document)\n",
    "    \n",
    "    documents.append(document)"
   ]
  },
  {
   "cell_type": "code",
   "execution_count": 44,
   "metadata": {},
   "outputs": [
    {
     "name": "stdout",
     "output_type": "stream",
     "text": [
      "[[0 0 0 ... 0 0 0]\n",
      " [0 0 0 ... 0 1 0]\n",
      " [0 0 0 ... 1 1 0]\n",
      " ...\n",
      " [0 0 0 ... 0 0 0]\n",
      " [0 0 0 ... 0 0 0]\n",
      " [0 0 0 ... 0 0 0]]\n"
     ]
    }
   ],
   "source": [
    "from sklearn.feature_extraction.text import CountVectorizer\n",
    "vectorizer = CountVectorizer(max_features=1500, min_df=5, max_df=0.7, stop_words=stopwords.words('english'))\n",
    "Y1 = vectorizer.fit_transform(documents).toarray()\n",
    "print(Y1)"
   ]
  },
  {
   "cell_type": "code",
   "execution_count": 194,
   "metadata": {
    "scrolled": true
   },
   "outputs": [
    {
     "name": "stdout",
     "output_type": "stream",
     "text": [
      "[[0.         0.         0.         ... 0.         0.         0.        ]\n",
      " [0.         0.         0.         ... 0.         0.04783865 0.        ]\n",
      " [0.         0.         0.         ... 0.44567251 0.0524337  0.        ]\n",
      " ...\n",
      " [0.         0.         0.         ... 0.         0.         0.        ]\n",
      " [0.         0.         0.         ... 0.         0.         0.        ]\n",
      " [0.         0.         0.         ... 0.         0.         0.        ]]\n"
     ]
    }
   ],
   "source": [
    "from sklearn.feature_extraction.text import TfidfTransformer\n",
    "tfidfconverter = TfidfTransformer()\n",
    "Y1 = tfidfconverter.fit_transform(Y1).toarray()\n",
    "print(Y1)"
   ]
  },
  {
   "cell_type": "code",
   "execution_count": 364,
   "metadata": {},
   "outputs": [
    {
     "data": {
      "text/plain": [
       "(44, 85)"
      ]
     },
     "execution_count": 364,
     "metadata": {},
     "output_type": "execute_result"
    }
   ],
   "source": [
    "from sklearn.model_selection import train_test_split\n",
    "X_train, X_test, y_train, y_test = train_test_split(Y1, X1, test_size= 0.17)\n",
    "\n",
    "X_test.shape"
   ]
  },
  {
   "cell_type": "code",
   "execution_count": 365,
   "metadata": {},
   "outputs": [],
   "source": [
    "from sklearn.svm import SVC\n",
    "from sklearn.linear_model import LogisticRegression\n",
    "from sklearn.ensemble import RandomForestClassifier \n",
    "from sklearn.neural_network import MLPClassifier\n",
    "from sklearn.naive_bayes import MultinomialNB \n",
    "from sklearn.neural_network import MLPClassifier\n",
    "from sklearn.ensemble import StackingClassifier\n",
    "#models = [('lgr', LogisticRegression()),('mnb', MultinomialNB()),('rfc', RandomForestClassifier()),('svm',SVC()), ('mlp', MLPClassifier(solver='lbfgs', alpha=1e-5, hidden_layer_sizes=(8,8), random_state=1))]\n",
    "#stacking = StackingClassifier(estimators=models, n_jobs = -1, passthrough= True)\n",
    "MLP = MLPClassifier(solver='lbfgs', alpha=1e-5, hidden_layer_sizes=(8,8), random_state=1, max_iter=10000)"
   ]
  },
  {
   "cell_type": "code",
   "execution_count": 366,
   "metadata": {},
   "outputs": [
    {
     "data": {
      "text/plain": [
       "array([0, 0, 0, 1, 0, 1, 2, 0, 2, 0, 0, 1, 2, 2, 2, 0, 2, 1, 1, 1, 0, 0,\n",
       "       2, 1, 2, 0, 2, 2, 2, 2, 0, 0, 0, 1, 0, 0, 0, 2, 1, 0, 0, 0, 0, 2],\n",
       "      dtype=int64)"
      ]
     },
     "execution_count": 366,
     "metadata": {},
     "output_type": "execute_result"
    }
   ],
   "source": [
    "MLP.fit(X_train, y_train)\n",
    "y_pred = MLP.predict(X_test)\n",
    "y_pred"
   ]
  },
  {
   "cell_type": "code",
   "execution_count": 367,
   "metadata": {},
   "outputs": [
    {
     "data": {
      "text/plain": [
       "0.75"
      ]
     },
     "execution_count": 367,
     "metadata": {},
     "output_type": "execute_result"
    }
   ],
   "source": [
    "from sklearn import metrics\n",
    "metrics.accuracy_score(y_test, y_pred)"
   ]
  },
  {
   "cell_type": "code",
   "execution_count": 368,
   "metadata": {},
   "outputs": [
    {
     "data": {
      "text/plain": [
       "<AxesSubplot:>"
      ]
     },
     "execution_count": 368,
     "metadata": {},
     "output_type": "execute_result"
    },
    {
     "data": {
      "image/png": "[encoded data removed]",
      "text/plain": [
       "<Figure size 432x288 with 2 Axes>"
      ]
     },
     "metadata": {
      "needs_background": "light"
     },
     "output_type": "display_data"
    }
   ],
   "source": [
    "import seaborn as sns\n",
    "from sklearn.metrics import confusion_matrix\n",
    "conf_mat = confusion_matrix(y_test, y_pred)\n",
    "\n",
    "sns.heatmap(conf_mat, annot= True)\n"
   ]
  },
  {
   "cell_type": "code",
   "execution_count": 369,
   "metadata": {},
   "outputs": [],
   "source": [
    "from sklearn.metrics import precision_score, recall_score, accuracy_score, f1_score"
   ]
  },
  {
   "cell_type": "code",
   "execution_count": 370,
   "metadata": {},
   "outputs": [
    {
     "data": {
      "text/plain": [
       "0.75"
      ]
     },
     "execution_count": 370,
     "metadata": {},
     "output_type": "execute_result"
    }
   ],
   "source": [
    "recall_score(y_test, y_pred, average= \"weighted\")"
   ]
  },
  {
   "cell_type": "code",
   "execution_count": 371,
   "metadata": {},
   "outputs": [
    {
     "data": {
      "text/plain": [
       "0.7976190476190476"
      ]
     },
     "execution_count": 371,
     "metadata": {},
     "output_type": "execute_result"
    }
   ],
   "source": [
    "precision_score(y_test, y_pred, average=\"weighted\")"
   ]
  },
  {
   "cell_type": "code",
   "execution_count": 372,
   "metadata": {},
   "outputs": [
    {
     "data": {
      "text/plain": [
       "0.7453862953862955"
      ]
     },
     "execution_count": 372,
     "metadata": {},
     "output_type": "execute_result"
    }
   ],
   "source": [
    "f1_score(y_test, y_pred, average=\"weighted\")"
   ]
  },
  {
   "cell_type": "code",
   "execution_count": 373,
   "metadata": {},
   "outputs": [
    {
     "data": {
      "text/plain": [
       "array([[14,  1,  1],\n",
       "       [ 0,  6,  0],\n",
       "       [ 7,  2, 13]], dtype=int64)"
      ]
     },
     "execution_count": 373,
     "metadata": {},
     "output_type": "execute_result"
    }
   ],
   "source": [
    "conf_mat"
   ]
  },
  {
   "cell_type": "code",
   "execution_count": 374,
   "metadata": {},
   "outputs": [],
   "source": [
    "%store -r Y2NVS"
   ]
  },
  {
   "cell_type": "code",
   "execution_count": 375,
   "metadata": {},
   "outputs": [
    {
     "data": {
      "text/plain": [
       "(3130, 85)"
      ]
     },
     "execution_count": 375,
     "metadata": {},
     "output_type": "execute_result"
    }
   ],
   "source": [
    "Y2NVS.shape"
   ]
  },
  {
   "cell_type": "code",
   "execution_count": 377,
   "metadata": {},
   "outputs": [
    {
     "data": {
      "text/plain": [
       "array([0, 0, 2, ..., 0, 0, 0], dtype=int64)"
      ]
     },
     "execution_count": 377,
     "metadata": {},
     "output_type": "execute_result"
    }
   ],
   "source": [
    "y_pred2 = MLP.predict(Y2NVS)\n",
    "y_pred2"
   ]
  },
  {
   "cell_type": "code",
   "execution_count": 378,
   "metadata": {},
   "outputs": [],
   "source": [
    "df22 = pd.DataFrame(y_pred2)\n",
    "df22.columns = [\"Labels\"]"
   ]
  },
  {
   "cell_type": "code",
   "execution_count": 379,
   "metadata": {},
   "outputs": [],
   "source": [
    "%store -r dfNVSTweet"
   ]
  },
  {
   "cell_type": "code",
   "execution_count": 381,
   "metadata": {},
   "outputs": [
    {
     "data": {
      "text/html": [
       "<div>\n",
       "<style scoped>\n",
       "    .dataframe tbody tr th:only-of-type {\n",
       "        vertical-align: middle;\n",
       "    }\n",
       "\n",
       "    .dataframe tbody tr th {\n",
       "        vertical-align: top;\n",
       "    }\n",
       "\n",
       "    .dataframe thead th {\n",
       "        text-align: right;\n",
       "    }\n",
       "</style>\n",
       "<table border=\"1\" class=\"dataframe\">\n",
       "  <thead>\n",
       "    <tr style=\"text-align: right;\">\n",
       "      <th></th>\n",
       "      <th>Tweet</th>\n",
       "      <th>Labels</th>\n",
       "    </tr>\n",
       "  </thead>\n",
       "  <tbody>\n",
       "    <tr>\n",
       "      <th>0</th>\n",
       "      <td>Winners take home the prize! Employees meeting...</td>\n",
       "      <td>0</td>\n",
       "    </tr>\n",
       "    <tr>\n",
       "      <th>1</th>\n",
       "      <td>All you hard work paid off. Canâ€™t tell you h...</td>\n",
       "      <td>0</td>\n",
       "    </tr>\n",
       "    <tr>\n",
       "      <th>2</th>\n",
       "      <td>Just done a massive pass the parcel loved thes...</td>\n",
       "      <td>2</td>\n",
       "    </tr>\n",
       "    <tr>\n",
       "      <th>3</th>\n",
       "      <td>Thank you @SportsANR for the great coverage an...</td>\n",
       "      <td>0</td>\n",
       "    </tr>\n",
       "    <tr>\n",
       "      <th>4</th>\n",
       "      <td>Hard work pays off!! Keep grinding kid!! @Seth...</td>\n",
       "      <td>1</td>\n",
       "    </tr>\n",
       "    <tr>\n",
       "      <th>...</th>\n",
       "      <td>...</td>\n",
       "      <td>...</td>\n",
       "    </tr>\n",
       "    <tr>\n",
       "      <th>3125</th>\n",
       "      <td>Wow! A great award acknowledging the hard work...</td>\n",
       "      <td>2</td>\n",
       "    </tr>\n",
       "    <tr>\n",
       "      <th>3126</th>\n",
       "      <td>I canâ€™t wait for @OryendFisher to get in fro...</td>\n",
       "      <td>2</td>\n",
       "    </tr>\n",
       "    <tr>\n",
       "      <th>3127</th>\n",
       "      <td>Congratulations, Yvonne and Carly â€” you set ...</td>\n",
       "      <td>0</td>\n",
       "    </tr>\n",
       "    <tr>\n",
       "      <th>3128</th>\n",
       "      <td>This is amazing. Passion, hard work, elbow gre...</td>\n",
       "      <td>0</td>\n",
       "    </tr>\n",
       "    <tr>\n",
       "      <th>3129</th>\n",
       "      <td>Amazing event to celebrate the incredibly hard...</td>\n",
       "      <td>0</td>\n",
       "    </tr>\n",
       "  </tbody>\n",
       "</table>\n",
       "<p>3130 rows × 2 columns</p>\n",
       "</div>"
      ],
      "text/plain": [
       "                                                  Tweet  Labels\n",
       "0     Winners take home the prize! Employees meeting...       0\n",
       "1     All you hard work paid off. Canâ€™t tell you h...       0\n",
       "2     Just done a massive pass the parcel loved thes...       2\n",
       "3     Thank you @SportsANR for the great coverage an...       0\n",
       "4     Hard work pays off!! Keep grinding kid!! @Seth...       1\n",
       "...                                                 ...     ...\n",
       "3125  Wow! A great award acknowledging the hard work...       2\n",
       "3126  I canâ€™t wait for @OryendFisher to get in fro...       2\n",
       "3127  Congratulations, Yvonne and Carly â€” you set ...       0\n",
       "3128  This is amazing. Passion, hard work, elbow gre...       0\n",
       "3129  Amazing event to celebrate the incredibly hard...       0\n",
       "\n",
       "[3130 rows x 2 columns]"
      ]
     },
     "execution_count": 381,
     "metadata": {},
     "output_type": "execute_result"
    }
   ],
   "source": [
    "dfNVSTweet[\"Labels\"] = df22[\"Labels\"]\n",
    "dfNVSTweet"
   ]
  },
  {
   "cell_type": "code",
   "execution_count": 382,
   "metadata": {},
   "outputs": [],
   "source": [
    "filename = \"Labeled Data at ISB.xlsx\"\n",
    "\n",
    "dfNVSTweet.to_excel(filename)"
   ]
  },
  {
   "cell_type": "code",
   "execution_count": null,
   "metadata": {},
   "outputs": [],
   "source": []
  }
 ],
 "metadata": {
  "kernelspec": {
   "display_name": "Python 3",
   "language": "python",
   "name": "python3"
  },
  "language_info": {
   "codemirror_mode": {
    "name": "ipython",
    "version": 3
   },
   "file_extension": ".py",
   "mimetype": "text/x-python",
   "name": "python",
   "nbconvert_exporter": "python",
   "pygments_lexer": "ipython3",
   "version": "3.8.5"
  }
 },
 "nbformat": 4,
 "nbformat_minor": 4
}
